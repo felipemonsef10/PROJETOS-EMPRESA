{
 "cells": [
  {
   "cell_type": "markdown",
   "metadata": {},
   "source": [
    "### **CONECTANDO O GOOGLE SHEETS COM O PYTHON**"
   ]
  },
  {
   "cell_type": "code",
   "execution_count": null,
   "metadata": {},
   "outputs": [],
   "source": [
    "from __future__ import print_function\n",
    "\n",
    "import os.path\n",
    "import pandas as pd\n",
    "import numpy as np\n",
    "from google.auth.transport.requests import Request\n",
    "from google.oauth2.credentials import Credentials\n",
    "from google_auth_oauthlib.flow import InstalledAppFlow\n",
    "from googleapiclient.discovery import build\n",
    "from googleapiclient.errors import HttpError\n",
    "\n",
    "nome_mes = 'FEVEREIRO'\n",
    "linhas = 1346\n",
    "\n",
    "# If modifying these scopes, delete the file token.json.\n",
    "SCOPES = ['https://www.googleapis.com/auth/spreadsheets']\n",
    "\n",
    "# The ID and range of a sample spreadsheet.\n",
    "SAMPLE_SPREADSHEET_ID = '1_TzimHTZEGRFQH1r58YNj75FFr15Rw4Dh8U_gYsAy1Y'\n",
    "SAMPLE_RANGE_NAME = f'Relatório - {nome_mes} 24!A1:AS{linhas}'\n",
    "\n",
    "\n",
    "\n",
    "def main():\n",
    "    creds = None\n",
    "\n",
    "    if os.path.exists('token.json'):\n",
    "        creds = Credentials.from_authorized_user_file('token.json', SCOPES)\n",
    "    # If there are no (valid) credentials available, let the user log in.\n",
    "    if not creds or not creds.valid:\n",
    "        if creds and creds.expired and creds.refresh_token:\n",
    "            creds.refresh(Request())\n",
    "        else:\n",
    "            flow = InstalledAppFlow.from_client_secrets_file(\n",
    "                'credentials.json', SCOPES)\n",
    "            creds = flow.run_local_server(port=0)\n",
    "        # Save the credentials for the next run\n",
    "        with open('token.json', 'w') as token:\n",
    "            token.write(creds.to_json())\n",
    "\n",
    "    try:\n",
    "        service = build('sheets', 'v4', credentials=creds)\n",
    "\n",
    "        # Call the Sheets API\n",
    "        sheet = service.spreadsheets()\n",
    "        result = sheet.values().get(spreadsheetId=SAMPLE_SPREADSHEET_ID,\n",
    "                                    range=SAMPLE_RANGE_NAME).execute()\n",
    "        \n",
    "        valores = result['values']\n",
    "        # print(valores)\n",
    "        return valores\n",
    "\n",
    "    except HttpError as err:\n",
    "        print(err)\n",
    "\n",
    "\n",
    "if __name__ == '__main__':\n",
    "    main()\n",
    "\n",
    "valores = main()\n",
    "print(valores)"
   ]
  },
  {
   "cell_type": "markdown",
   "metadata": {},
   "source": [
    "### **CRIANDO A TABELA**"
   ]
  },
  {
   "cell_type": "code",
   "execution_count": null,
   "metadata": {},
   "outputs": [],
   "source": [
    "espaco = ' '\n",
    "numero_semanas = 4\n",
    "semana_resultado = 1\n",
    "nome_arquivo_final = f'D:\\Perfil\\Desktop\\PROJETOS EMPRESA\\PEDRO LEVI\\SERVIÇO DE REPOSIÇÃO\\ARQUIVOS PRONTOS\\\\RESULTADO GERAL SEMANAL e MENSAL\\\\CONSOLIDADO ATÉ SEMANA {semana_resultado} - {nome_mes}.xlsx'\n",
    "\n",
    "semanas = {\n",
    "    'semana1': 'SEMANA 1             (05/02 A 10/02)',\n",
    "    'semana2': 'SEMANA 2             (12/01 A 17/02)',\n",
    "    'semana3': 'SEMANA 3             (19/02 A 24/02)',\n",
    "    'semana4': 'SEMANA 4             (26/02 A 02/03)',\n",
    "    'semana5': 'SEMANA 5             (XX/XX A XX/XX)'\n",
    "}\n",
    "\n",
    "\n",
    "df_regioes = pd.read_excel('D:\\\\Perfil\\\\Desktop\\\\PROJETOS EMPRESA\\\\PEDRO LEVI\\\\SERVIÇO DE REPOSIÇÃO\\\\ARQUIVOS BASE\\\\REGIOES.xlsx')\n",
    "\n",
    "df_visitas = {}\n",
    "colunas_selecionadas = [\n",
    "            'REDE',\n",
    "            'LOJA',\n",
    "            'REPOSITOR',\n",
    "            'FREQUÊNCIA',\n",
    "            'SEMANA 1',\n",
    "            'SEMANA 2',\n",
    "            'SEMANA 3',\n",
    "            'SEMANA 4',\n",
    "            'SEMANA 5'\n",
    "        ]\n",
    "\n",
    "for posi, linha in enumerate(valores):\n",
    "    if posi == 0:\n",
    "        for valor_coluna in linha:\n",
    "            if valor_coluna in colunas_selecionadas:\n",
    "                df_visitas[valor_coluna] = []\n",
    "    else:\n",
    "        for posi2, valor_linha in enumerate(linha):\n",
    "            if valores[0][posi2] in colunas_selecionadas:\n",
    "                df_visitas[valores[0][posi2]].append(valor_linha)\n",
    "    \n",
    "df_visitas = pd.DataFrame(df_visitas)\n",
    "\n",
    "\n",
    "df_visitas.dropna(how='any', inplace=True)\n",
    "df_visitas.reset_index(inplace=True, drop=True)\n",
    "df_visitas['REPOSITOR'] = df_visitas['REPOSITOR'].str.strip()\n",
    "\n",
    "df_visitas = pd.merge(df_visitas, df_regioes, on = 'REPOSITOR')\n",
    "df_visitas = df_visitas[[\n",
    "    'REDE', 'REGIÃO', \n",
    "    'LOJA', 'REPOSITOR', \n",
    "    'FREQUÊNCIA', 'SEMANA 1', \n",
    "    'SEMANA 2', 'SEMANA 3', \n",
    "    'SEMANA 4', 'SEMANA 5'\n",
    "]]\n",
    "\n",
    "df_visitas['FREQUÊNCIA'] = df_visitas['FREQUÊNCIA'].str.removesuffix(',00')\n",
    "df_visitas['FREQUÊNCIA'] = pd.to_numeric(df_visitas['FREQUÊNCIA'])\n",
    "df_visitas['SEMANA 1'] = pd.to_numeric(df_visitas['SEMANA 1'])\n",
    "df_visitas['SEMANA 2'] = pd.to_numeric(df_visitas['SEMANA 2'])\n",
    "df_visitas['SEMANA 3'] = pd.to_numeric(df_visitas['SEMANA 3'])\n",
    "df_visitas['SEMANA 4'] = pd.to_numeric(df_visitas['SEMANA 4'])\n",
    "df_visitas['SEMANA 5'] = pd.to_numeric(df_visitas['SEMANA 5'])\n",
    "\n",
    "\n",
    "# VISUALIZANDO AS TABELAS\n",
    "display(df_visitas.head())\n",
    "# display(df_regioes.head(4))\n",
    "\n",
    "\n",
    "# VISUALIZANDO AS INFORMAÇÕES DAS TABELAS\n",
    "print(df_visitas.info())\n",
    "# print(df_visitas['REPOSITOR'].unique())"
   ]
  },
  {
   "cell_type": "markdown",
   "metadata": {},
   "source": [
    "### RESUMINDO INFORMAÇÕES"
   ]
  },
  {
   "cell_type": "markdown",
   "metadata": {},
   "source": [
    "**REPOSITOR | REGIÃO | LOJAS BASE**"
   ]
  },
  {
   "cell_type": "code",
   "execution_count": null,
   "metadata": {},
   "outputs": [],
   "source": [
    "df_repositor_rg_lj_base = pd.DataFrame(df_visitas[['REPOSITOR', 'REGIÃO']].value_counts())\n",
    "df_repositor_rg_lj_base.reset_index(inplace=True)\n",
    "df_repositor_rg_lj_base.rename(columns={'count': 'LOJAS BASE'}, inplace=True)\n",
    "\n",
    "display(df_repositor_rg_lj_base.head(4))"
   ]
  },
  {
   "cell_type": "markdown",
   "metadata": {},
   "source": [
    "**CONTRATADO MÊS | VISITAS REAL MÊS | % MÊS**"
   ]
  },
  {
   "cell_type": "code",
   "execution_count": null,
   "metadata": {},
   "outputs": [],
   "source": [
    "df_contratado_mes = df_visitas[['REPOSITOR', 'FREQUÊNCIA']].groupby(by=['REPOSITOR']).sum()\n",
    "df_contratado_mes.reset_index(inplace=True)\n",
    "df_contratado_mes.rename(columns={'FREQUÊNCIA': 'CONTRATADO MÊS'}, inplace=True)\n",
    "df_contratado_mes['CONTRATADO MÊS'] = df_contratado_mes['CONTRATADO MÊS'] * numero_semanas\n",
    "df_contratado_mes.sort_values(by='REPOSITOR', inplace=True)\n",
    "\n",
    "display(df_contratado_mes.head(4))"
   ]
  },
  {
   "cell_type": "code",
   "execution_count": null,
   "metadata": {},
   "outputs": [],
   "source": [
    "df_visitas_real_mes = df_visitas[['REPOSITOR', 'SEMANA 1', 'SEMANA 2', 'SEMANA 3', 'SEMANA 4', 'SEMANA 5']].groupby(by=['REPOSITOR']).sum().reset_index()\n",
    "df_visitas_real_mes['REAL MÊS'] = (\n",
    "    df_visitas_real_mes['SEMANA 1'] + \n",
    "    df_visitas_real_mes['SEMANA 2'] + \n",
    "    df_visitas_real_mes['SEMANA 3'] + \n",
    "    df_visitas_real_mes['SEMANA 4'] + \n",
    "    df_visitas_real_mes['SEMANA 5']\n",
    ")\n",
    "df_visitas_real_mes = df_visitas_real_mes[['REPOSITOR', 'REAL MÊS']]\n",
    "df_visitas_real_mes.sort_values(by='REPOSITOR', inplace=True)\n",
    "\n",
    "display(df_visitas_real_mes.head(3))"
   ]
  },
  {
   "cell_type": "code",
   "execution_count": null,
   "metadata": {},
   "outputs": [],
   "source": [
    "percentagem_mes = pd.DataFrame(df_visitas_real_mes['REPOSITOR'])\n",
    "\n",
    "percentagem_mes['% \\n MÊS'] = round((df_visitas_real_mes['REAL MÊS']  / df_contratado_mes['CONTRATADO MÊS']) * 100)\n",
    "\n",
    "display(percentagem_mes.head())"
   ]
  },
  {
   "cell_type": "markdown",
   "metadata": {},
   "source": [
    "**JUNTANDO: REPOSITOR | REGIÃO | LOJAS BASE + CONTRATADO MÊS | VISITAS REAL MÊS | % MÊS**"
   ]
  },
  {
   "cell_type": "code",
   "execution_count": null,
   "metadata": {},
   "outputs": [],
   "source": [
    "df_dados_mes = pd.merge(df_repositor_rg_lj_base, df_contratado_mes, on = 'REPOSITOR')\n",
    "df_dados_mes = pd.merge(df_dados_mes, df_visitas_real_mes, on = 'REPOSITOR')\n",
    "df_dados_mes = pd.merge(df_dados_mes, percentagem_mes, on = 'REPOSITOR')\n",
    "display(df_dados_mes.head(3))"
   ]
  },
  {
   "cell_type": "markdown",
   "metadata": {},
   "source": [
    "### DADOS SEMANAS"
   ]
  },
  {
   "cell_type": "code",
   "execution_count": null,
   "metadata": {},
   "outputs": [],
   "source": [
    "df_contratado_semanal = pd.DataFrame({\n",
    "    'REPOSITOR': df_visitas[['REPOSITOR', 'FREQUÊNCIA']].groupby(by=['REPOSITOR']).sum().reset_index()['REPOSITOR'],\n",
    "    'FREQUÊNCIA P/ SEMANA': df_visitas[['REPOSITOR', 'FREQUÊNCIA']].groupby(by=['REPOSITOR']).sum().reset_index()['FREQUÊNCIA']\n",
    "})\n",
    "\n",
    "\n",
    "display(df_contratado_semanal.head(3))"
   ]
  },
  {
   "cell_type": "markdown",
   "metadata": {},
   "source": [
    "### SEMANA 1"
   ]
  },
  {
   "cell_type": "code",
   "execution_count": null,
   "metadata": {},
   "outputs": [],
   "source": [
    "# CONTRATADO SEMANA\n",
    "\n",
    "df_semana1 = pd.DataFrame({\n",
    "    'REPOSITOR': df_contratado_semanal['REPOSITOR'],\n",
    "    espaco: np.nan,\n",
    "    espaco + espaco: np.nan,\n",
    "    f\"{semanas['semana1']} CONTRATADO\":  df_contratado_semanal['FREQUÊNCIA P/ SEMANA']\n",
    "})\n",
    "\n",
    "espaco += espaco + espaco + espaco\n",
    "\n",
    "display(df_semana1.head(3))"
   ]
  },
  {
   "cell_type": "code",
   "execution_count": null,
   "metadata": {},
   "outputs": [],
   "source": [
    "# VISITAS REAL SEMANA\n",
    "\n",
    "df_semana1 = pd.merge(df_semana1, df_visitas[[\n",
    "    'REPOSITOR', 'SEMANA 1', \n",
    "    'SEMANA 2', 'SEMANA 3', \n",
    "    'SEMANA 4', 'SEMANA 5']].groupby(by=['REPOSITOR']).sum().reset_index()[['REPOSITOR', 'SEMANA 1']], on='REPOSITOR')\n",
    "\n",
    "display(df_semana1.head(3))"
   ]
  },
  {
   "cell_type": "code",
   "execution_count": null,
   "metadata": {},
   "outputs": [],
   "source": [
    "# PERCENTAGEM REAL SEMANA\n",
    "\n",
    "df_semana1[f'{semanas[\"semana1\"]} \\n %'] = round((df_semana1['SEMANA 1'] / df_semana1[f'{semanas[\"semana1\"]} CONTRATADO']) * 100)\n",
    "df_semana1[espaco] = np.nan\n",
    "\n",
    "display(df_semana1.head(3))"
   ]
  },
  {
   "cell_type": "markdown",
   "metadata": {},
   "source": [
    "### SEMANA 2"
   ]
  },
  {
   "cell_type": "code",
   "execution_count": null,
   "metadata": {},
   "outputs": [],
   "source": [
    "# CONTRATADO SEMANA\n",
    "\n",
    "df_semana2 = pd.DataFrame({\n",
    "    'REPOSITOR': df_contratado_semanal['REPOSITOR'],\n",
    "    f\"{semanas['semana2']} CONTRATADO\":  df_contratado_semanal['FREQUÊNCIA P/ SEMANA']\n",
    "})\n",
    "\n",
    "display(df_semana2.head(3))"
   ]
  },
  {
   "cell_type": "code",
   "execution_count": null,
   "metadata": {},
   "outputs": [],
   "source": [
    "# VISITAS REAL SEMANA\n",
    "\n",
    "df_semana2 = pd.merge(df_semana2, df_visitas[[\n",
    "    'REPOSITOR', 'SEMANA 1', \n",
    "    'SEMANA 2', 'SEMANA 3', \n",
    "    'SEMANA 4', 'SEMANA 5']].groupby(by=['REPOSITOR']).sum().reset_index()[['REPOSITOR', 'SEMANA 2']], on='REPOSITOR')\n",
    "\n",
    "display(df_semana2.head(3))"
   ]
  },
  {
   "cell_type": "code",
   "execution_count": null,
   "metadata": {},
   "outputs": [],
   "source": [
    "# PERCENTAGEM REAL SEMANA\n",
    "espaco += espaco\n",
    "\n",
    "df_semana2[f'{semanas[\"semana2\"]} \\n %'] = round((df_semana2['SEMANA 2'] / df_semana2[f'{semanas[\"semana2\"]} CONTRATADO']) * 100)\n",
    "df_semana2[espaco] = np.nan\n",
    "\n",
    "display(df_semana1.head(3))"
   ]
  },
  {
   "cell_type": "markdown",
   "metadata": {},
   "source": [
    "### SEMANA 3"
   ]
  },
  {
   "cell_type": "code",
   "execution_count": null,
   "metadata": {},
   "outputs": [],
   "source": [
    "# CONTRATADO SEMANA\n",
    "\n",
    "df_semana3 = pd.DataFrame({\n",
    "    'REPOSITOR': df_contratado_semanal['REPOSITOR'],\n",
    "    f\"{semanas['semana3']} CONTRATADO\":  df_contratado_semanal['FREQUÊNCIA P/ SEMANA']\n",
    "})\n",
    "\n",
    "display(df_semana3.head(3))"
   ]
  },
  {
   "cell_type": "code",
   "execution_count": null,
   "metadata": {},
   "outputs": [],
   "source": [
    "# VISITAS REAL SEMANA\n",
    "\n",
    "df_semana3 = pd.merge(df_semana3, df_visitas[[\n",
    "    'REPOSITOR', 'SEMANA 1', \n",
    "    'SEMANA 2', 'SEMANA 3', \n",
    "    'SEMANA 4', 'SEMANA 5']].groupby(by=['REPOSITOR']).sum().reset_index()[['REPOSITOR', 'SEMANA 3']], on='REPOSITOR')\n",
    "\n",
    "display(df_semana3.head(3))"
   ]
  },
  {
   "cell_type": "code",
   "execution_count": null,
   "metadata": {},
   "outputs": [],
   "source": [
    "# PERCENTAGEM REAL SEMANA\n",
    "espaco += espaco\n",
    "\n",
    "df_semana3[f'{semanas[\"semana3\"]} \\n %'] = round((df_semana3['SEMANA 3'] / df_semana3[f'{semanas[\"semana3\"]} CONTRATADO']) * 100)\n",
    "df_semana3[espaco] = np.nan\n",
    "\n",
    "display(df_semana3.head(3))"
   ]
  },
  {
   "cell_type": "markdown",
   "metadata": {},
   "source": [
    "### SEMANA 4"
   ]
  },
  {
   "cell_type": "code",
   "execution_count": null,
   "metadata": {},
   "outputs": [],
   "source": [
    "# CONTRATADO SEMANA\n",
    "\n",
    "df_semana4 = pd.DataFrame({\n",
    "    'REPOSITOR': df_contratado_semanal['REPOSITOR'],\n",
    "    f\"{semanas['semana4']} CONTRATADO\":  df_contratado_semanal['FREQUÊNCIA P/ SEMANA']\n",
    "})\n",
    "\n",
    "display(df_semana4.head(3))"
   ]
  },
  {
   "cell_type": "code",
   "execution_count": null,
   "metadata": {},
   "outputs": [],
   "source": [
    "# VISITAS REAL SEMANA\n",
    "\n",
    "df_semana4 = pd.merge(df_semana4, df_visitas[[\n",
    "    'REPOSITOR', 'SEMANA 1', \n",
    "    'SEMANA 2', 'SEMANA 3', \n",
    "    'SEMANA 4', 'SEMANA 5']].groupby(by=['REPOSITOR']).sum().reset_index()[['REPOSITOR', 'SEMANA 4']], on='REPOSITOR')\n",
    "\n",
    "display(df_semana4.head(3))"
   ]
  },
  {
   "cell_type": "code",
   "execution_count": null,
   "metadata": {},
   "outputs": [],
   "source": [
    "# PERCENTAGEM REAL SEMANA\n",
    "espaco += espaco\n",
    "\n",
    "df_semana4[f'{semanas[\"semana4\"]} \\n %'] = round((df_semana4['SEMANA 4'] / df_semana4[f'{semanas[\"semana4\"]} CONTRATADO']) * 100)\n",
    "df_semana4[espaco] = np.nan\n",
    "\n",
    "display(df_semana4.head(3))"
   ]
  },
  {
   "cell_type": "markdown",
   "metadata": {},
   "source": [
    "### SEMANA 5"
   ]
  },
  {
   "cell_type": "code",
   "execution_count": null,
   "metadata": {},
   "outputs": [],
   "source": [
    "# CONTRATADO SEMANA\n",
    "\n",
    "df_semana5 = pd.DataFrame({\n",
    "    'REPOSITOR': df_contratado_semanal['REPOSITOR'],\n",
    "    f\"{semanas['semana5']} CONTRATADO\":  df_contratado_semanal['FREQUÊNCIA P/ SEMANA']\n",
    "})\n",
    "\n",
    "display(df_semana5.head(3))"
   ]
  },
  {
   "cell_type": "code",
   "execution_count": null,
   "metadata": {},
   "outputs": [],
   "source": [
    "# VISITAS REAL SEMANA\n",
    "\n",
    "df_semana5 = pd.merge(df_semana5, df_visitas[[\n",
    "    'REPOSITOR', 'SEMANA 1', \n",
    "    'SEMANA 2', 'SEMANA 3', \n",
    "    'SEMANA 4', 'SEMANA 5']].groupby(by=['REPOSITOR']).sum().reset_index()[['REPOSITOR', 'SEMANA 5']], on='REPOSITOR')\n",
    "\n",
    "display(df_semana5.head(3))"
   ]
  },
  {
   "cell_type": "code",
   "execution_count": null,
   "metadata": {},
   "outputs": [],
   "source": [
    "# PERCENTAGEM REAL SEMANA\n",
    "\n",
    "df_semana5[f'{semanas[\"semana5\"]} \\n %'] = round((df_semana5['SEMANA 5'] / df_semana5[f'{semanas[\"semana5\"]} CONTRATADO']) * 100)\n",
    "\n",
    "display(df_semana5.head(3))"
   ]
  },
  {
   "cell_type": "markdown",
   "metadata": {},
   "source": [
    "### **JUNTANDO TODAS AS INFORMAÇÕES**"
   ]
  },
  {
   "cell_type": "code",
   "execution_count": null,
   "metadata": {},
   "outputs": [],
   "source": [
    "df_final = pd.merge(df_dados_mes, df_semana1, on='REPOSITOR')\n",
    "df_final = pd.merge(df_final, df_semana2, on='REPOSITOR')\n",
    "df_final = pd.merge(df_final, df_semana3, on='REPOSITOR')\n",
    "df_final = pd.merge(df_final, df_semana4, on='REPOSITOR')\n",
    "df_final = pd.merge(df_final, df_semana5, on='REPOSITOR')\n",
    "\n",
    "df_final.sort_values(by='% \\n MÊS', ascending=False, inplace=True)\n",
    "df_final[[\n",
    "    '% \\n MÊS', \n",
    "    f'{semanas[\"semana1\"]} \\n %',\n",
    "    f'{semanas[\"semana2\"]} \\n %',\n",
    "    f'{semanas[\"semana3\"]} \\n %',\n",
    "    f'{semanas[\"semana4\"]} \\n %',\n",
    "    f'{semanas[\"semana5\"]} \\n %'\n",
    "]] = df_final[[\n",
    "    '% \\n MÊS', \n",
    "    f'{semanas[\"semana1\"]} \\n %',\n",
    "    f'{semanas[\"semana2\"]} \\n %',\n",
    "    f'{semanas[\"semana3\"]} \\n %',\n",
    "    f'{semanas[\"semana4\"]} \\n %',\n",
    "    f'{semanas[\"semana5\"]} \\n %'\n",
    "]].astype(str) + '%'\n",
    "\n",
    "\n",
    "display(df_final.head(2))"
   ]
  },
  {
   "cell_type": "markdown",
   "metadata": {},
   "source": [
    "**EXPORTANDO DADOS**"
   ]
  },
  {
   "cell_type": "code",
   "execution_count": null,
   "metadata": {},
   "outputs": [],
   "source": [
    "df_final.to_excel(nome_arquivo_final, index=False)\n",
    "\n",
    "os.startfile(nome_arquivo_final)\n",
    "os.startfile('D:\\\\Perfil\\\\Desktop\\\\PROJETOS EMPRESA\\\\PEDRO LEVI\\\\SERVIÇO DE REPOSIÇÃO\\\\ARQUIVOS COMPLEMENTARES\\\\FORMATAÇÃO PRONTA.xlsx')"
   ]
  }
 ],
 "metadata": {
  "kernelspec": {
   "display_name": "Python 3",
   "language": "python",
   "name": "python3"
  },
  "language_info": {
   "codemirror_mode": {
    "name": "ipython",
    "version": 3
   },
   "file_extension": ".py",
   "mimetype": "text/x-python",
   "name": "python",
   "nbconvert_exporter": "python",
   "pygments_lexer": "ipython3",
   "version": "3.10.10"
  },
  "orig_nbformat": 4
 },
 "nbformat": 4,
 "nbformat_minor": 2
}
