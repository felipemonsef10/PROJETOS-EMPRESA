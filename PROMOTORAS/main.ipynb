{
 "cells": [
  {
   "cell_type": "markdown",
   "metadata": {},
   "source": [
    "### **CONECTANDO COM O GOOGLE SHEETS**"
   ]
  },
  {
   "cell_type": "code",
   "execution_count": null,
   "metadata": {},
   "outputs": [],
   "source": [
    "# %pip install --upgrade google-api-python-client google-auth-httplib2 google-auth-oauthlib\n",
    "\n",
    "from __future__ import print_function\n",
    "\n",
    "import os\n",
    "from google.auth.transport.requests import Request\n",
    "from google.oauth2.credentials import Credentials\n",
    "from google_auth_oauthlib.flow import InstalledAppFlow\n",
    "from googleapiclient.discovery import build\n",
    "from googleapiclient.errors import HttpError\n",
    "\n",
    "linhas = 'A1:F15000'\n",
    "\n",
    "# If modifying these scopes, delete the file token.json.\n",
    "SCOPES = ['https://www.googleapis.com/auth/spreadsheets']\n",
    "\n",
    "# The ID and range of a sample spreadsheet.\n",
    "SAMPLE_SPREADSHEET_ID = '1Rwicv0cOdAwUl1Z8RV91LmBiuq8G8lYoox6G3yLnPoc'\n",
    "SAMPLE_RANGE_NAME = f'Página1!{linhas}'\n",
    "\n",
    "\n",
    "\n",
    "def main():\n",
    "    creds = None\n",
    "\n",
    "    if os.path.exists('token.json'):\n",
    "        creds = Credentials.from_authorized_user_file('token.json', SCOPES)\n",
    "    # If there are no (valid) credentials available, let the user log in.\n",
    "    if not creds or not creds.valid:\n",
    "        if creds and creds.expired and creds.refresh_token:\n",
    "            creds.refresh(Request())\n",
    "        else:\n",
    "            flow = InstalledAppFlow.from_client_secrets_file(\n",
    "                'credentials.json', SCOPES)\n",
    "            creds = flow.run_local_server(port=0)\n",
    "        # Save the credentials for the next run\n",
    "        with open('token.json', 'w') as token:\n",
    "            token.write(creds.to_json())\n",
    "\n",
    "    try:\n",
    "        service = build('sheets', 'v4', credentials=creds)\n",
    "\n",
    "        # Call the Sheets API\n",
    "        sheet = service.spreadsheets()\n",
    "        result = sheet.values().get(spreadsheetId=SAMPLE_SPREADSHEET_ID,\n",
    "                                    range=SAMPLE_RANGE_NAME).execute()\n",
    "        \n",
    "        valores = result['values']\n",
    "        # print(valores)\n",
    "        return valores\n",
    "\n",
    "    except HttpError as err:\n",
    "        print(err)\n",
    "\n",
    "\n",
    "if __name__ == '__main__':\n",
    "    main()\n",
    "\n",
    "valores = main()\n",
    "print(valores)\n",
    "print(len(valores))"
   ]
  },
  {
   "cell_type": "markdown",
   "metadata": {},
   "source": [
    "### **IMPORTANDO AS TABELAS AUXILIARES**"
   ]
  },
  {
   "cell_type": "code",
   "execution_count": null,
   "metadata": {},
   "outputs": [],
   "source": [
    "import pandas as pd\n",
    "\n",
    "# PROMOTORA E UF-CIDADE\n",
    "df_promotora_cidade = pd.read_csv('DADOS BASE\\\\DimPromotoras.csv')\n",
    "df_promotora_cidade['Admissao'] = pd.to_datetime(df_promotora_cidade['Admissao'])\n",
    "df_promotora_cidade.sort_values(by='Admissao', inplace=True, ascending=False)\n",
    "df_promotora_cidade = df_promotora_cidade[['Promotora', 'Cidade', 'Admissao']]\n",
    "df_promotora_cidade.rename(columns={'Cidade': 'UF-CIDADE', 'Promotora': 'PROMOTORA'}, inplace=True)\n",
    "\n",
    "# EXPORTAR PARA EXCEL\n",
    "# df_promotora_cidade.to_excel(\"DADOS BASE\\\\DimPromotoras.xlsx\", index=False)\n",
    "df_promotora_cidade.drop(axis=0, columns=['Admissao'], inplace=True)\n",
    "\n",
    "# display(df_promotora_cidade.info())\n",
    "\n",
    "# UF-CIDADE E REGIÕES\n",
    "df_regioes = pd.read_excel('DADOS BASE\\\\DimRegioes.xlsx')\n",
    "df_regioes.dropna(inplace=True)\n",
    "# display(df_regioes.info())\n",
    "\n",
    "# PROMOTORAS / UF-CIDADE / REGIÃO\n",
    "df_promotoras_uf_cidade_regiao = pd.merge(df_promotora_cidade, df_regioes, on='UF-CIDADE')\n",
    "df_promotoras_uf_cidade_regiao = df_promotoras_uf_cidade_regiao[['PROMOTORA', 'REGIÃO', 'UF-CIDADE']]\n",
    "\n",
    "# display(df_promotoras_uf_cidade_regiao.head())\n",
    "\n",
    "# PROMOTORA/VALOR PROMOTORA\n",
    "df_valor_promotora = pd.read_excel('DADOS BASE\\\\DimValorPromot.xlsx')\n",
    "df_valor_promotora.drop(axis=1, columns='UF-CIDADE', inplace=True)\n",
    "df_valor_promotora['Valor'] = pd.to_numeric(df_valor_promotora['Valor'].replace(',', '.'))\n",
    "df_valor_promotora\n",
    "\n"
   ]
  },
  {
   "cell_type": "markdown",
   "metadata": {},
   "source": [
    "### **DEFININDO O PERÍODO DE RESULTADOS**"
   ]
  },
  {
   "cell_type": "code",
   "execution_count": null,
   "metadata": {},
   "outputs": [],
   "source": [
    "from datetime import datetime, timedelta\n",
    "\n",
    "numero_semanas_mes = 5\n",
    "nome_mes = 'JANEIRO'\n",
    "ano_atual = 2024\n",
    "\n",
    "data_inicio_date = datetime(2024, 2, 5)\n",
    "data_fim_date = datetime(2024, 3, 2)\n",
    "\n",
    "data_inicio_str = datetime.strftime(data_inicio_date, '%d/%m/%Y')\n",
    "data_fim_str = datetime.strftime(data_fim_date, '%d/%m/%Y')\n",
    "\n",
    "if numero_semanas_mes == 5:\n",
    "    semanas = {\n",
    "        'SEMANA 1': (),\n",
    "        'SEMANA 2': (),\n",
    "        'SEMANA 3': (),\n",
    "        'SEMANA 4': (),\n",
    "        'SEMANA 5': ()\n",
    "    }\n",
    "else:\n",
    "    semanas = {\n",
    "    'SEMANA 1': (),\n",
    "    'SEMANA 2': (),\n",
    "    'SEMANA 3': (),\n",
    "    'SEMANA 4': ()\n",
    "}\n",
    "\n",
    "data_variavel = data_inicio_date\n",
    "\n",
    "for semana in range(numero_semanas_mes):\n",
    "    semanas[f'SEMANA {semana + 1}'] = ((data_variavel + timedelta(5) - timedelta(5), \n",
    "                                        data_variavel + timedelta(5), \n",
    "                                        f'{(datetime.strftime(data_variavel + timedelta(5) - timedelta(5), \"%d/%m\"))} A {(datetime.strftime(data_variavel + timedelta(5), \"%d/%m\"))}'))\n",
    "    data_variavel = data_variavel + timedelta(7)"
   ]
  },
  {
   "cell_type": "markdown",
   "metadata": {},
   "source": [
    "### **TRANSFORMANDO OS VALORES EM UM DATAFRAME INICIAL DE BASE**\n",
    "#### **TRATAMENTOS DE COLUNAS E FILTRO DE DATA E PRODUTO JÁ APLICADOS**\n",
    "#### **JUNTANDO COM OS DADOS DE REGIÕES E COM O VALOR**"
   ]
  },
  {
   "cell_type": "code",
   "execution_count": null,
   "metadata": {},
   "outputs": [],
   "source": [
    "df_resultado_promotoras = {\n",
    "    'PROMOTORA': [],\n",
    "    'DIA': [],\n",
    "    'LOJA': [],\n",
    "    'QUANTIDADE': [],\n",
    "    'PRODUTO': [],\n",
    "    'PRAÇA': []\n",
    "}\n",
    "\n",
    "\n",
    "for cont, linha in enumerate(valores):\n",
    "    linha = tuple(linha)\n",
    "\n",
    "    if cont != 0:\n",
    "        promotora, dia, loja, qtd, produto, praca = linha\n",
    "\n",
    "        filtro_produto = (produto.strip() == 'ARROZ')        \n",
    "        filtro_data = (data_inicio_date <= datetime.strptime(dia, '%d/%m/%Y') <= data_fim_date)\n",
    "        filtro_qtd = (qtd.strip().isnumeric())\n",
    "        \n",
    "        if filtro_produto and filtro_data and filtro_qtd:\n",
    "            df_resultado_promotoras['PROMOTORA'].append(promotora)\n",
    "            df_resultado_promotoras['DIA'].append(dia)\n",
    "            df_resultado_promotoras['LOJA'].append(loja)\n",
    "            df_resultado_promotoras['QUANTIDADE'].append(round(int(qtd) / 6))\n",
    "            df_resultado_promotoras['PRODUTO'].append(produto)\n",
    "            df_resultado_promotoras['PRAÇA'].append(praca)\n",
    "\n",
    "df_resultado_promotoras = pd.DataFrame(df_resultado_promotoras)\n",
    "df_resultado_promotoras = pd.merge(df_resultado_promotoras, df_promotoras_uf_cidade_regiao, on='PROMOTORA', how='left')\n",
    "df_resultado_promotoras = pd.merge(df_resultado_promotoras, df_valor_promotora, on='PROMOTORA', how='left')\n",
    "df_resultado_promotoras.fillna(0, inplace=True)\n",
    "\n",
    "print(df_resultado_promotoras.info())\n",
    "display(df_resultado_promotoras.head(8))\n"
   ]
  },
  {
   "cell_type": "markdown",
   "metadata": {},
   "source": [
    "### **TOTAL PERIODO E MEDIA DIARIA**"
   ]
  },
  {
   "cell_type": "code",
   "execution_count": null,
   "metadata": {},
   "outputs": [],
   "source": [
    "df_total_periodo_media = pd.DataFrame(df_resultado_promotoras.groupby(['PROMOTORA', 'PRAÇA', 'REGIÃO', 'UF-CIDADE', 'Valor'])['QUANTIDADE'].sum()).reset_index().sort_values(by='PROMOTORA')\n",
    "\n",
    "df_total_periodo_media['MEDIA DIARIA'] = round(df_total_periodo_media['QUANTIDADE'] / pd.DataFrame(df_resultado_promotoras['PROMOTORA'].value_counts()).reset_index().sort_values(by='PROMOTORA')['count'].reset_index(drop=True))\n",
    "\n",
    "df_total_periodo_media.rename(columns={'QUANTIDADE': 'TOTAL PERÍODO'}, inplace=True)\n",
    "\n",
    "df_total_periodo_media[['PROMOTORA', 'TOTAL PERÍODO']].tail()\n",
    "\n",
    "\n"
   ]
  },
  {
   "cell_type": "markdown",
   "metadata": {},
   "source": [
    "### **SEMANA 1**"
   ]
  },
  {
   "cell_type": "code",
   "execution_count": null,
   "metadata": {},
   "outputs": [],
   "source": [
    "inicio_semana1_date, fim_semana1_date, periodo_semana1_str = semanas['SEMANA 1']\n",
    "\n",
    "df_resultado_semana1 = {\n",
    "    'PROMOTORA': [],\n",
    "    periodo_semana1_str: [],\n",
    "}\n",
    "\n",
    "\n",
    "\n",
    "\n",
    "for i in df_resultado_promotoras.index:\n",
    "    if inicio_semana1_date <= datetime.strptime(df_resultado_promotoras.loc[i, 'DIA'], '%d/%m/%Y') <= fim_semana1_date:\n",
    "        df_resultado_semana1['PROMOTORA'].append(df_resultado_promotoras.loc[i, 'PROMOTORA'])\n",
    "        df_resultado_semana1[periodo_semana1_str].append(df_resultado_promotoras.loc[i, 'QUANTIDADE'])\n",
    "\n",
    "df_resultado_semana1 = pd.DataFrame(pd.DataFrame(df_resultado_semana1).groupby('PROMOTORA')[periodo_semana1_str].sum()).reset_index()\n",
    "df_resultado_semana1.head()"
   ]
  },
  {
   "cell_type": "code",
   "execution_count": null,
   "metadata": {},
   "outputs": [],
   "source": [
    "pd.DataFrame(df_resultado_promotoras['PROMOTORA'].value_counts()).reset_index()"
   ]
  },
  {
   "cell_type": "markdown",
   "metadata": {},
   "source": [
    "### **SEMANA 2**"
   ]
  },
  {
   "cell_type": "code",
   "execution_count": null,
   "metadata": {},
   "outputs": [],
   "source": [
    "inicio_semana2_date, fim_semana2_date, periodo_semana2_str = semanas['SEMANA 2']\n",
    "\n",
    "df_resultado_semana2 = {\n",
    "    'PROMOTORA': [],\n",
    "    periodo_semana2_str: [],\n",
    "}\n",
    "\n",
    "\n",
    "\n",
    "\n",
    "for i in df_resultado_promotoras.index:\n",
    "    if inicio_semana2_date <= datetime.strptime(df_resultado_promotoras.loc[i, 'DIA'], '%d/%m/%Y') <= fim_semana2_date:\n",
    "        df_resultado_semana2['PROMOTORA'].append(df_resultado_promotoras.loc[i, 'PROMOTORA'])\n",
    "        df_resultado_semana2[periodo_semana2_str].append(df_resultado_promotoras.loc[i, 'QUANTIDADE'])\n",
    "\n",
    "df_resultado_semana2 = pd.DataFrame(pd.DataFrame(df_resultado_semana2).groupby('PROMOTORA')[periodo_semana2_str].sum()).reset_index()\n",
    "df_resultado_semana2.head()"
   ]
  },
  {
   "cell_type": "markdown",
   "metadata": {},
   "source": [
    "### **SEMANA 3**"
   ]
  },
  {
   "cell_type": "code",
   "execution_count": null,
   "metadata": {},
   "outputs": [],
   "source": [
    "inicio_semana3_date, fim_semana3_date, periodo_semana3_str = semanas['SEMANA 3']\n",
    "\n",
    "df_resultado_semana3 = {\n",
    "    'PROMOTORA': [],\n",
    "    periodo_semana3_str: [],\n",
    "}\n",
    "\n",
    "\n",
    "\n",
    "\n",
    "for i in df_resultado_promotoras.index:\n",
    "    if inicio_semana3_date <= datetime.strptime(df_resultado_promotoras.loc[i, 'DIA'], '%d/%m/%Y') <= fim_semana3_date:\n",
    "        df_resultado_semana3['PROMOTORA'].append(df_resultado_promotoras.loc[i, 'PROMOTORA'])\n",
    "        df_resultado_semana3[periodo_semana3_str].append(df_resultado_promotoras.loc[i, 'QUANTIDADE'])\n",
    "\n",
    "df_resultado_semana3 = pd.DataFrame(pd.DataFrame(df_resultado_semana3).groupby('PROMOTORA')[periodo_semana3_str].sum()).reset_index()\n",
    "df_resultado_semana3.head()"
   ]
  },
  {
   "cell_type": "markdown",
   "metadata": {},
   "source": [
    "### **SEMANA 4**"
   ]
  },
  {
   "cell_type": "code",
   "execution_count": null,
   "metadata": {},
   "outputs": [],
   "source": [
    "inicio_semana4_date, fim_semana4_date, periodo_semana4_str = semanas['SEMANA 4']\n",
    "\n",
    "df_resultado_semana4 = {\n",
    "    'PROMOTORA': [],\n",
    "    periodo_semana4_str: [],\n",
    "}\n",
    "\n",
    "\n",
    "\n",
    "\n",
    "for i in df_resultado_promotoras.index:\n",
    "    if inicio_semana4_date <= datetime.strptime(df_resultado_promotoras.loc[i, 'DIA'], '%d/%m/%Y') <= fim_semana4_date:\n",
    "        df_resultado_semana4['PROMOTORA'].append(df_resultado_promotoras.loc[i, 'PROMOTORA'])\n",
    "        df_resultado_semana4[periodo_semana4_str].append(df_resultado_promotoras.loc[i, 'QUANTIDADE'])\n",
    "\n",
    "df_resultado_semana4 = pd.DataFrame(pd.DataFrame(df_resultado_semana4).groupby('PROMOTORA')[periodo_semana4_str].sum()).reset_index()\n",
    "df_resultado_semana4.head()"
   ]
  },
  {
   "cell_type": "markdown",
   "metadata": {},
   "source": [
    "### **SEMANA 5**"
   ]
  },
  {
   "cell_type": "code",
   "execution_count": null,
   "metadata": {},
   "outputs": [],
   "source": [
    "if numero_semanas_mes == 5:\n",
    "    inicio_semana5_date, fim_semana5_date, periodo_semana5_str = semanas['SEMANA 5']\n",
    "\n",
    "    df_resultado_semana5 = {\n",
    "        'PROMOTORA': [],\n",
    "        periodo_semana5_str: [],\n",
    "    }\n",
    "\n",
    "\n",
    "\n",
    "\n",
    "    for i in df_resultado_promotoras.index:\n",
    "        if inicio_semana5_date <= datetime.strptime(df_resultado_promotoras.loc[i, 'DIA'], '%d/%m/%Y') <= fim_semana5_date:\n",
    "            df_resultado_semana5['PROMOTORA'].append(df_resultado_promotoras.loc[i, 'PROMOTORA'])\n",
    "            df_resultado_semana5[periodo_semana5_str].append(df_resultado_promotoras.loc[i, 'QUANTIDADE'])\n",
    "\n",
    "    df_resultado_semana5 = pd.DataFrame(pd.DataFrame(df_resultado_semana5).groupby('PROMOTORA')[periodo_semana5_str].sum()).reset_index()\n",
    "    df_resultado_semana5.head()"
   ]
  },
  {
   "cell_type": "markdown",
   "metadata": {},
   "source": [
    "## **JUNTANDO TODAS AS TABELAS E EXPORTANDO PARA EXCEL**"
   ]
  },
  {
   "cell_type": "code",
   "execution_count": null,
   "metadata": {},
   "outputs": [],
   "source": [
    "df_final = pd.merge(df_total_periodo_media, df_resultado_semana1, on='PROMOTORA', how='left')\n",
    "df_final = pd.merge(df_final, df_resultado_semana2, on='PROMOTORA', how='left')\n",
    "df_final = pd.merge(df_final, df_resultado_semana3, on='PROMOTORA', how='left')\n",
    "df_final = pd.merge(df_final, df_resultado_semana4, on='PROMOTORA', how='left')\n",
    "\n",
    "if numero_semanas_mes == 5:\n",
    "    df_final = pd.merge(df_final, df_resultado_semana5, on='PROMOTORA', how='left')\n",
    "df_final = df_final[[\n",
    "    'PROMOTORA', \n",
    "    'REGIÃO', \n",
    "    'UF-CIDADE', \n",
    "    'PRAÇA', \n",
    "    periodo_semana1_str,\n",
    "    periodo_semana2_str, \n",
    "    periodo_semana3_str,\n",
    "    periodo_semana4_str,\n",
    "    periodo_semana5_str,\n",
    "    'TOTAL PERÍODO',\n",
    "    'MEDIA DIARIA',\n",
    "    'Valor'\n",
    "]]\n",
    "df_final.fillna(0, inplace=True)\n",
    "df_final.sort_values(by='MEDIA DIARIA', ascending=False, inplace=True)\n",
    "\n",
    "\n",
    "df_final.to_excel(f'ARQUIVOS PRONTOS\\\\RESULTADO DE PROMOTORAS - {nome_mes} {ano_atual}.xlsx', index=False)\n",
    "os.startfile(f'ARQUIVOS PRONTOS\\\\RESULTADO DE PROMOTORAS - {nome_mes} {ano_atual}.xlsx')"
   ]
  }
 ],
 "metadata": {
  "kernelspec": {
   "display_name": "Python 3",
   "language": "python",
   "name": "python3"
  },
  "language_info": {
   "codemirror_mode": {
    "name": "ipython",
    "version": 3
   },
   "file_extension": ".py",
   "mimetype": "text/x-python",
   "name": "python",
   "nbconvert_exporter": "python",
   "pygments_lexer": "ipython3",
   "version": "3.10.10"
  }
 },
 "nbformat": 4,
 "nbformat_minor": 2
}
